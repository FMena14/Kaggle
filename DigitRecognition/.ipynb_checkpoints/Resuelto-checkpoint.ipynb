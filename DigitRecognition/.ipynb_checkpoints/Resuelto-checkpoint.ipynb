{
 "cells": [
  {
   "cell_type": "code",
   "execution_count": 2,
   "metadata": {
    "collapsed": false
   },
   "outputs": [],
   "source": [
    "import numpy as np\n",
    "import pandas as pd\n",
    "\n",
    "df_train =pd.read_csv('train.csv')\n",
    "df_test =pd.read_csv('test.csv')"
   ]
  },
  {
   "cell_type": "code",
   "execution_count": 2,
   "metadata": {
    "collapsed": false
   },
   "outputs": [
    {
     "data": {
      "text/html": [
       "<div>\n",
       "<table border=\"1\" class=\"dataframe\">\n",
       "  <thead>\n",
       "    <tr style=\"text-align: right;\">\n",
       "      <th></th>\n",
       "      <th>label</th>\n",
       "      <th>pixel0</th>\n",
       "      <th>pixel1</th>\n",
       "      <th>pixel2</th>\n",
       "      <th>pixel3</th>\n",
       "      <th>pixel4</th>\n",
       "      <th>pixel5</th>\n",
       "      <th>pixel6</th>\n",
       "      <th>pixel7</th>\n",
       "      <th>pixel8</th>\n",
       "      <th>...</th>\n",
       "      <th>pixel774</th>\n",
       "      <th>pixel775</th>\n",
       "      <th>pixel776</th>\n",
       "      <th>pixel777</th>\n",
       "      <th>pixel778</th>\n",
       "      <th>pixel779</th>\n",
       "      <th>pixel780</th>\n",
       "      <th>pixel781</th>\n",
       "      <th>pixel782</th>\n",
       "      <th>pixel783</th>\n",
       "    </tr>\n",
       "  </thead>\n",
       "  <tbody>\n",
       "    <tr>\n",
       "      <th>0</th>\n",
       "      <td>1</td>\n",
       "      <td>0</td>\n",
       "      <td>0</td>\n",
       "      <td>0</td>\n",
       "      <td>0</td>\n",
       "      <td>0</td>\n",
       "      <td>0</td>\n",
       "      <td>0</td>\n",
       "      <td>0</td>\n",
       "      <td>0</td>\n",
       "      <td>...</td>\n",
       "      <td>0</td>\n",
       "      <td>0</td>\n",
       "      <td>0</td>\n",
       "      <td>0</td>\n",
       "      <td>0</td>\n",
       "      <td>0</td>\n",
       "      <td>0</td>\n",
       "      <td>0</td>\n",
       "      <td>0</td>\n",
       "      <td>0</td>\n",
       "    </tr>\n",
       "    <tr>\n",
       "      <th>1</th>\n",
       "      <td>0</td>\n",
       "      <td>0</td>\n",
       "      <td>0</td>\n",
       "      <td>0</td>\n",
       "      <td>0</td>\n",
       "      <td>0</td>\n",
       "      <td>0</td>\n",
       "      <td>0</td>\n",
       "      <td>0</td>\n",
       "      <td>0</td>\n",
       "      <td>...</td>\n",
       "      <td>0</td>\n",
       "      <td>0</td>\n",
       "      <td>0</td>\n",
       "      <td>0</td>\n",
       "      <td>0</td>\n",
       "      <td>0</td>\n",
       "      <td>0</td>\n",
       "      <td>0</td>\n",
       "      <td>0</td>\n",
       "      <td>0</td>\n",
       "    </tr>\n",
       "    <tr>\n",
       "      <th>2</th>\n",
       "      <td>1</td>\n",
       "      <td>0</td>\n",
       "      <td>0</td>\n",
       "      <td>0</td>\n",
       "      <td>0</td>\n",
       "      <td>0</td>\n",
       "      <td>0</td>\n",
       "      <td>0</td>\n",
       "      <td>0</td>\n",
       "      <td>0</td>\n",
       "      <td>...</td>\n",
       "      <td>0</td>\n",
       "      <td>0</td>\n",
       "      <td>0</td>\n",
       "      <td>0</td>\n",
       "      <td>0</td>\n",
       "      <td>0</td>\n",
       "      <td>0</td>\n",
       "      <td>0</td>\n",
       "      <td>0</td>\n",
       "      <td>0</td>\n",
       "    </tr>\n",
       "    <tr>\n",
       "      <th>3</th>\n",
       "      <td>4</td>\n",
       "      <td>0</td>\n",
       "      <td>0</td>\n",
       "      <td>0</td>\n",
       "      <td>0</td>\n",
       "      <td>0</td>\n",
       "      <td>0</td>\n",
       "      <td>0</td>\n",
       "      <td>0</td>\n",
       "      <td>0</td>\n",
       "      <td>...</td>\n",
       "      <td>0</td>\n",
       "      <td>0</td>\n",
       "      <td>0</td>\n",
       "      <td>0</td>\n",
       "      <td>0</td>\n",
       "      <td>0</td>\n",
       "      <td>0</td>\n",
       "      <td>0</td>\n",
       "      <td>0</td>\n",
       "      <td>0</td>\n",
       "    </tr>\n",
       "    <tr>\n",
       "      <th>4</th>\n",
       "      <td>0</td>\n",
       "      <td>0</td>\n",
       "      <td>0</td>\n",
       "      <td>0</td>\n",
       "      <td>0</td>\n",
       "      <td>0</td>\n",
       "      <td>0</td>\n",
       "      <td>0</td>\n",
       "      <td>0</td>\n",
       "      <td>0</td>\n",
       "      <td>...</td>\n",
       "      <td>0</td>\n",
       "      <td>0</td>\n",
       "      <td>0</td>\n",
       "      <td>0</td>\n",
       "      <td>0</td>\n",
       "      <td>0</td>\n",
       "      <td>0</td>\n",
       "      <td>0</td>\n",
       "      <td>0</td>\n",
       "      <td>0</td>\n",
       "    </tr>\n",
       "  </tbody>\n",
       "</table>\n",
       "<p>5 rows × 785 columns</p>\n",
       "</div>"
      ],
      "text/plain": [
       "   label  pixel0  pixel1  pixel2  pixel3  pixel4  pixel5  pixel6  pixel7  \\\n",
       "0      1       0       0       0       0       0       0       0       0   \n",
       "1      0       0       0       0       0       0       0       0       0   \n",
       "2      1       0       0       0       0       0       0       0       0   \n",
       "3      4       0       0       0       0       0       0       0       0   \n",
       "4      0       0       0       0       0       0       0       0       0   \n",
       "\n",
       "   pixel8    ...     pixel774  pixel775  pixel776  pixel777  pixel778  \\\n",
       "0       0    ...            0         0         0         0         0   \n",
       "1       0    ...            0         0         0         0         0   \n",
       "2       0    ...            0         0         0         0         0   \n",
       "3       0    ...            0         0         0         0         0   \n",
       "4       0    ...            0         0         0         0         0   \n",
       "\n",
       "   pixel779  pixel780  pixel781  pixel782  pixel783  \n",
       "0         0         0         0         0         0  \n",
       "1         0         0         0         0         0  \n",
       "2         0         0         0         0         0  \n",
       "3         0         0         0         0         0  \n",
       "4         0         0         0         0         0  \n",
       "\n",
       "[5 rows x 785 columns]"
      ]
     },
     "execution_count": 2,
     "metadata": {},
     "output_type": "execute_result"
    }
   ],
   "source": [
    "df_train.head()"
   ]
  },
  {
   "cell_type": "code",
   "execution_count": 3,
   "metadata": {
    "collapsed": false
   },
   "outputs": [
    {
     "name": "stdout",
     "output_type": "stream",
     "text": [
      "(42000, 785)\n",
      "(28000, 784)\n"
     ]
    }
   ],
   "source": [
    "print df_train.shape\n",
    "print df_test.shape"
   ]
  },
  {
   "cell_type": "code",
   "execution_count": 4,
   "metadata": {
    "collapsed": false
   },
   "outputs": [],
   "source": [
    "y_train = df_train.label.as_matrix()\n",
    "\n",
    "X_test = df_test.as_matrix()\n",
    "X_train = df_train.drop(\"label\",axis=1).as_matrix()"
   ]
  },
  {
   "cell_type": "code",
   "execution_count": 29,
   "metadata": {
    "collapsed": false
   },
   "outputs": [
    {
     "data": {
      "image/png": "[encoded data removed]",
      "text/plain": [
       "<matplotlib.figure.Figure at 0x7fbaec535550>"
      ]
     },
     "metadata": {},
     "output_type": "display_data"
    },
    {
     "data": {
      "image/png": "[encoded data removed]",
      "text/plain": [
       "<matplotlib.figure.Figure at 0x7fbaec00ba50>"
      ]
     },
     "metadata": {},
     "output_type": "display_data"
    },
    {
     "data": {
      "image/png": "[encoded data removed]",
      "text/plain": [
       "<matplotlib.figure.Figure at 0x7fbaec587850>"
      ]
     },
     "metadata": {},
     "output_type": "display_data"
    },
    {
     "data": {
      "image/png": "[encoded data removed]",
      "text/plain": [
       "<matplotlib.figure.Figure at 0x7fbaec587410>"
      ]
     },
     "metadata": {},
     "output_type": "display_data"
    }
   ],
   "source": [
    "def ver_imagen(X,Y,n):\n",
    "    aux = X[n].copy()\n",
    "\n",
    "    ima = np.zeros((28,28))\n",
    "    j = 0\n",
    "    i= 0\n",
    "    for k in range(len(aux)):\n",
    "        if i < 28:\n",
    "            ima[j,i]= aux[k]\n",
    "            i+=1\n",
    "        else:\n",
    "            j+=1\n",
    "            i = 0\n",
    "            ima[j,i]= aux[k]\n",
    "            i+=1\n",
    "\n",
    "    import matplotlib.pyplot as plt\n",
    "    plt.figure(figsize=(12,4))\n",
    "    plt.title(\"etiqueta: \"+str(Y[n]))\n",
    "    plt.imshow(ima, cmap='Greys',interpolation=\"nearest\")\n",
    "    plt.show()\n",
    "ver_imagen(X_train,y_train,0)\n",
    "ver_imagen(X_train,y_train,1)"
   ]
  },
  {
   "cell_type": "markdown",
   "metadata": {},
   "source": [
    "## Escalar los datos"
   ]
  },
  {
   "cell_type": "code",
   "execution_count": 8,
   "metadata": {
    "collapsed": false
   },
   "outputs": [
    {
     "name": "stdout",
     "output_type": "stream",
     "text": [
      "Datos escalados normalmente\n"
     ]
    },
    {
     "data": {
      "image/png": "[encoded data removed]",
      "text/plain": [
       "<matplotlib.figure.Figure at 0x7fbae06727d0>"
      ]
     },
     "metadata": {},
     "output_type": "display_data"
    },
    {
     "name": "stdout",
     "output_type": "stream",
     "text": [
      "Datos escalados por la intesidad maxima\n"
     ]
    },
    {
     "data": {
      "image/png": "[encoded data removed]",
      "text/plain": [
       "<matplotlib.figure.Figure at 0x7fbae0672690>"
      ]
     },
     "metadata": {},
     "output_type": "display_data"
    },
    {
     "name": "stdout",
     "output_type": "stream",
     "text": [
      "Datos escalados llevados a ceros y unos\n"
     ]
    },
    {
     "data": {
      "image/png": "[encoded data removed]",
      "text/plain": [
       "<matplotlib.figure.Figure at 0x7fbb04ea1350>"
      ]
     },
     "metadata": {},
     "output_type": "display_data"
    }
   ],
   "source": [
    "from sklearn.preprocessing import StandardScaler\n",
    "\n",
    "def scaler_t(X,Xt,scaler_type):\n",
    "    if scaler_type == \"standar\": #-1 a 1\n",
    "        scaler= StandardScaler(with_std=True).fit(X)\n",
    "        return scaler.transform(X), scaler.transform(Xt)\n",
    "    elif scaler_type == \"int_max\": #0 y 1\n",
    "        aux = [ X/255.0, Xt/255.0 ]\n",
    "        newX = aux[0].copy()\n",
    "        newXt = aux[1].copy()\n",
    "        return newX,newXt\n",
    "    elif scaler_type == \"zeros_ones\":\n",
    "        newX = X.copy()\n",
    "        newXt = Xt.copy()\n",
    "        newX[ newX <128] = 0\n",
    "        newX[ newX > 127] = 1\n",
    "        newXt[ newXt < 128] = 0\n",
    "        newXt[ newXt > 127] = 1\n",
    "        return newX,newXt\n",
    "    else: #otro\n",
    "        return X*0.5\n",
    "    \n",
    "print \"Datos escalados normalmente\"\n",
    "X,Xt = scaler_t(X_train,X_train,\"standar\")\n",
    "ver_imagen(X,y_train,30)\n",
    "\n",
    "print \"Datos escalados por la intesidad maxima\"\n",
    "X,Xt = scaler_t(X_train,X_train,\"int_max\")\n",
    "ver_imagen(X,y_train,30)\n",
    "\n",
    "print \"Datos escalados llevados a ceros y unos\"\n",
    "X,Xt = scaler_t(X_train,X_train,\"zeros_ones\")\n",
    "ver_imagen(X,y_train,30)"
   ]
  },
  {
   "cell_type": "markdown",
   "metadata": {},
   "source": [
    "# Entrenar el modelo"
   ]
  },
  {
   "cell_type": "code",
   "execution_count": 32,
   "metadata": {
    "collapsed": false
   },
   "outputs": [
    {
     "name": "stdout",
     "output_type": "stream",
     "text": [
      "Para representacion datos normalizados estandar\n",
      "41952/42000 [============================>.] - ETA: 0s\\m Train ACCURACY (activation relu-softmax) = 0.003603\n",
      "41792/42000 [============================>.] - ETA: 0s\n",
      " Train (activation relu-sigmoid) = 0.997181\n",
      "41888/42000 [============================>.] - ETA: 0s\n",
      " Train (activation relu-sigmoid) = 0.897512\n",
      "41856/42000 [============================>.] - ETA: 0s\n",
      " Train ACCURACY (optimizer RMSprop and activation relu-sigmoid) = 0.999276\n",
      "------------------------------------------------\n"
     ]
    }
   ],
   "source": [
    "from keras.utils.np_utils import to_categorical\n",
    "from sklearn.preprocessing import StandardScaler\n",
    "from keras.models import Sequential\n",
    "from keras.layers import Dense, Activation,Dropout\n",
    "from keras.optimizers import SGD,RMSprop\n",
    "\n",
    "Xtr,Xt = scaler_t(X_train,X_train,\"standar\")\n",
    "Ytr = to_categorical(y_train)\n",
    "\n",
    "print \"Para representacion datos normalizados estandar\"\n",
    "\n",
    "#experimentar variando valores\n",
    "model = Sequential()\n",
    "model.add(Dense(100, input_dim=Xtr.shape[1], init='uniform', activation='relu'))\n",
    "model.add(Dense(10, init='uniform', activation='softmax'))\n",
    "model.compile(optimizer=SGD(lr=0.05), loss='binary_crossentropy')\n",
    "model.fit(Xtr, Ytr, nb_epoch=50, batch_size=32, verbose=0)\n",
    "print \"\\m Train ACCURACY (activation relu-softmax) = %f\"% model.evaluate(Xtr, Ytr)\n",
    "\n",
    "model = Sequential()\n",
    "model.add(Dense(100, input_dim=Xtr.shape[1], init='uniform', activation='relu'))\n",
    "model.add(Dense(10, init='uniform', activation='sigmoid'))\n",
    "model.compile(optimizer=SGD(lr=0.05), loss='binary_crossentropy', metrics=['accuracy'])\n",
    "model.fit(Xtr, Ytr, nb_epoch=50, batch_size=32, verbose=0)\n",
    "print \"\\n Train (activation relu-sigmoid) = %f\"%model.evaluate(Xtr, Ytr)[1]\n",
    "\n",
    "model = Sequential()\n",
    "model.add(Dense(100, input_dim=Xtr.shape[1], init='uniform', activation='relu'))\n",
    "model.add(Dense(10, init='uniform', activation='softplus'))\n",
    "model.compile(optimizer=SGD(lr=0.05), loss='binary_crossentropy', metrics=['accuracy'])\n",
    "model.fit(Xtr, Ytr, nb_epoch=50, batch_size=32, verbose=0)\n",
    "print \"\\n Train (activation relu-sigmoid) = %f\"% model.evaluate(Xtr, Ytr)[1]\n",
    "\n",
    "model = Sequential()\n",
    "model.add(Dense(100, input_dim=Xtr.shape[1], init='uniform', activation='relu'))\n",
    "model.add(Dense(10, init='uniform', activation='sigmoid'))\n",
    "model.compile(optimizer=RMSprop(), loss='binary_crossentropy', metrics=['accuracy'])\n",
    "model.fit(Xtr, Ytr, nb_epoch=50, batch_size=32, verbose=0)\n",
    "print \"\\n Train ACCURACY (optimizer RMSprop and activation relu-sigmoid) = %f\"% model.evaluate(Xtr, Ytr)[1]\n",
    "\n",
    "print \"------------------------------------------------\""
   ]
  },
  {
   "cell_type": "code",
   "execution_count": 9,
   "metadata": {
    "collapsed": false
   },
   "outputs": [
    {
     "name": "stderr",
     "output_type": "stream",
     "text": [
      "Using Theano backend.\n"
     ]
    },
    {
     "name": "stdout",
     "output_type": "stream",
     "text": [
      "Train on 37800 samples, validate on 4200 samples\n",
      "Epoch 1/10\n",
      "37800/37800 [==============================] - 3s - loss: 0.0633 - val_loss: 0.0384\n",
      "Epoch 2/10\n",
      "37800/37800 [==============================] - 4s - loss: 0.0330 - val_loss: 0.0299\n",
      "Epoch 3/10\n",
      "37800/37800 [==============================] - 4s - loss: 0.0239 - val_loss: 0.0248\n",
      "Epoch 4/10\n",
      "37800/37800 [==============================] - 5s - loss: 0.0188 - val_loss: 0.0225\n",
      "Epoch 5/10\n",
      "37800/37800 [==============================] - 4s - loss: 0.0154 - val_loss: 0.0212\n",
      "Epoch 6/10\n",
      "37800/37800 [==============================] - 4s - loss: 0.0131 - val_loss: 0.0227\n",
      "Epoch 7/10\n",
      "37800/37800 [==============================] - 4s - loss: 0.0116 - val_loss: 0.0227\n",
      "Epoch 8/10\n",
      "37800/37800 [==============================] - 4s - loss: 0.0101 - val_loss: 0.0230\n",
      "Epoch 9/10\n",
      "37800/37800 [==============================] - 4s - loss: 0.0090 - val_loss: 0.0196\n",
      "Epoch 10/10\n",
      "37800/37800 [==============================] - 5s - loss: 0.0080 - val_loss: 0.0203\n"
     ]
    },
    {
     "data": {
      "text/plain": [
       "<keras.callbacks.History at 0x7fbaed6393d0>"
      ]
     },
     "execution_count": 9,
     "metadata": {},
     "output_type": "execute_result"
    }
   ],
   "source": [
    "from keras.utils.np_utils import to_categorical\n",
    "from sklearn.preprocessing import StandardScaler\n",
    "from keras.models import Sequential\n",
    "from keras.layers import Dense, Activation,Dropout\n",
    "from keras.optimizers import SGD,RMSprop\n",
    "\n",
    "Xtr,Xt = scaler_t(X_train,X_test,\"int_max\")\n",
    "Ytr = to_categorical(y_train)\n",
    "\n",
    "model = Sequential()\n",
    "model.add(Dense(100, input_dim=Xtr.shape[1], init='uniform', activation='relu'))\n",
    "model.add(Dense(10, init='uniform', activation='softmax'))\n",
    "model.compile(optimizer=RMSprop(), loss='binary_crossentropy')\n",
    "model.fit(Xtr, Ytr, nb_epoch=10, batch_size=32, verbose=1,validation_split = 0.10)\n",
    "#print \"\\m Train ACCURACY (activation relu-softmax) = %f\"% model.evaluate(Xtr, Ytr)"
   ]
  },
  {
   "cell_type": "code",
   "execution_count": 28,
   "metadata": {
    "collapsed": false
   },
   "outputs": [
    {
     "name": "stdout",
     "output_type": "stream",
     "text": [
      "27712/28000 [============================>.] - ETA: 0s*wrote MiprimeraEntrega.csv\n"
     ]
    }
   ],
   "source": [
    "def write_submit(ids, label, file_name):\n",
    "    assert len(ids) == len(label)\n",
    "    with open(file_name, 'w') as f:\n",
    "        f.write('ImageId,Label\\n')\n",
    "        for i, p in zip(ids, label):\n",
    "            f.write('%s,%s\\n' % (i, p))\n",
    "    print('*wrote %s' % file_name)\n",
    "\n",
    "write_submit(np.arange(1,X_test.shape[0]+1) ,model.predict_classes(X_test),\"MiprimeraEntrega.csv\")"
   ]
  },
  {
   "cell_type": "code",
   "execution_count": null,
   "metadata": {
    "collapsed": true
   },
   "outputs": [],
   "source": []
  }
 ],
 "metadata": {
  "kernelspec": {
   "display_name": "Python 2",
   "language": "python",
   "name": "python2"
  },
  "language_info": {
   "codemirror_mode": {
    "name": "ipython",
    "version": 2
   },
   "file_extension": ".py",
   "mimetype": "text/x-python",
   "name": "python",
   "nbconvert_exporter": "python",
   "pygments_lexer": "ipython2",
   "version": "2.7.9"
  }
 },
 "nbformat": 4,
 "nbformat_minor": 1
}
